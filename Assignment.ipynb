{
 "cells": [
  {
   "cell_type": "code",
   "execution_count": 670,
   "id": "260df058",
   "metadata": {},
   "outputs": [],
   "source": [
    "import pandas as pd\n",
    "import numpy as np\n",
    "import matplotlib.pyplot as plt\n",
    "from sklearn import metrics\n",
    "from sklearn import preprocessing\n",
    "from sklearn.model_selection import train_test_split\n",
    "from sklearn.linear_model import LogisticRegression\n",
    "\n",
    "df = pd.read_csv(\"breast-cancer-wisconsin.data\",header=None)\n",
    "df.columns = ['SampleCodeNumber','ClumpThickness','UniformityOfCellSize','UniformityOfCellShape','MarginalAdhesion','SingleEpithelialCellSize','BareNuclei','BlandChromatin','NormalNucleoli','Mitoses','Class']"
   ]
  },
  {
   "cell_type": "code",
   "execution_count": 671,
   "id": "cae9c4e0",
   "metadata": {},
   "outputs": [
    {
     "data": {
      "text/plain": [
       "699"
      ]
     },
     "execution_count": 671,
     "metadata": {},
     "output_type": "execute_result"
    }
   ],
   "source": [
    "len(df)"
   ]
  },
  {
   "cell_type": "code",
   "execution_count": 672,
   "id": "7bcbbf6b",
   "metadata": {},
   "outputs": [
    {
     "data": {
      "text/html": [
       "<div>\n",
       "<style scoped>\n",
       "    .dataframe tbody tr th:only-of-type {\n",
       "        vertical-align: middle;\n",
       "    }\n",
       "\n",
       "    .dataframe tbody tr th {\n",
       "        vertical-align: top;\n",
       "    }\n",
       "\n",
       "    .dataframe thead th {\n",
       "        text-align: right;\n",
       "    }\n",
       "</style>\n",
       "<table border=\"1\" class=\"dataframe\">\n",
       "  <thead>\n",
       "    <tr style=\"text-align: right;\">\n",
       "      <th></th>\n",
       "      <th>SampleCodeNumber</th>\n",
       "      <th>ClumpThickness</th>\n",
       "      <th>UniformityOfCellSize</th>\n",
       "      <th>UniformityOfCellShape</th>\n",
       "      <th>MarginalAdhesion</th>\n",
       "      <th>SingleEpithelialCellSize</th>\n",
       "      <th>BareNuclei</th>\n",
       "      <th>BlandChromatin</th>\n",
       "      <th>NormalNucleoli</th>\n",
       "      <th>Mitoses</th>\n",
       "      <th>Class</th>\n",
       "    </tr>\n",
       "  </thead>\n",
       "  <tbody>\n",
       "    <tr>\n",
       "      <th>0</th>\n",
       "      <td>1000025</td>\n",
       "      <td>5</td>\n",
       "      <td>1</td>\n",
       "      <td>1</td>\n",
       "      <td>1</td>\n",
       "      <td>2</td>\n",
       "      <td>1</td>\n",
       "      <td>3</td>\n",
       "      <td>1</td>\n",
       "      <td>1</td>\n",
       "      <td>2</td>\n",
       "    </tr>\n",
       "    <tr>\n",
       "      <th>1</th>\n",
       "      <td>1002945</td>\n",
       "      <td>5</td>\n",
       "      <td>4</td>\n",
       "      <td>4</td>\n",
       "      <td>5</td>\n",
       "      <td>7</td>\n",
       "      <td>10</td>\n",
       "      <td>3</td>\n",
       "      <td>2</td>\n",
       "      <td>1</td>\n",
       "      <td>2</td>\n",
       "    </tr>\n",
       "    <tr>\n",
       "      <th>2</th>\n",
       "      <td>1015425</td>\n",
       "      <td>3</td>\n",
       "      <td>1</td>\n",
       "      <td>1</td>\n",
       "      <td>1</td>\n",
       "      <td>2</td>\n",
       "      <td>2</td>\n",
       "      <td>3</td>\n",
       "      <td>1</td>\n",
       "      <td>1</td>\n",
       "      <td>2</td>\n",
       "    </tr>\n",
       "    <tr>\n",
       "      <th>3</th>\n",
       "      <td>1016277</td>\n",
       "      <td>6</td>\n",
       "      <td>8</td>\n",
       "      <td>8</td>\n",
       "      <td>1</td>\n",
       "      <td>3</td>\n",
       "      <td>4</td>\n",
       "      <td>3</td>\n",
       "      <td>7</td>\n",
       "      <td>1</td>\n",
       "      <td>2</td>\n",
       "    </tr>\n",
       "    <tr>\n",
       "      <th>4</th>\n",
       "      <td>1017023</td>\n",
       "      <td>4</td>\n",
       "      <td>1</td>\n",
       "      <td>1</td>\n",
       "      <td>3</td>\n",
       "      <td>2</td>\n",
       "      <td>1</td>\n",
       "      <td>3</td>\n",
       "      <td>1</td>\n",
       "      <td>1</td>\n",
       "      <td>2</td>\n",
       "    </tr>\n",
       "  </tbody>\n",
       "</table>\n",
       "</div>"
      ],
      "text/plain": [
       "   SampleCodeNumber  ClumpThickness  UniformityOfCellSize  \\\n",
       "0           1000025               5                     1   \n",
       "1           1002945               5                     4   \n",
       "2           1015425               3                     1   \n",
       "3           1016277               6                     8   \n",
       "4           1017023               4                     1   \n",
       "\n",
       "   UniformityOfCellShape  MarginalAdhesion  SingleEpithelialCellSize  \\\n",
       "0                      1                 1                         2   \n",
       "1                      4                 5                         7   \n",
       "2                      1                 1                         2   \n",
       "3                      8                 1                         3   \n",
       "4                      1                 3                         2   \n",
       "\n",
       "  BareNuclei  BlandChromatin  NormalNucleoli  Mitoses  Class  \n",
       "0          1               3               1        1      2  \n",
       "1         10               3               2        1      2  \n",
       "2          2               3               1        1      2  \n",
       "3          4               3               7        1      2  \n",
       "4          1               3               1        1      2  "
      ]
     },
     "execution_count": 672,
     "metadata": {},
     "output_type": "execute_result"
    }
   ],
   "source": [
    "df.head()"
   ]
  },
  {
   "cell_type": "code",
   "execution_count": 673,
   "id": "74f7bccf",
   "metadata": {},
   "outputs": [
    {
     "data": {
      "text/plain": [
       "683"
      ]
     },
     "execution_count": 673,
     "metadata": {},
     "output_type": "execute_result"
    }
   ],
   "source": [
    "df_original = df\n",
    "for col in df_original.columns:\n",
    "    df_original = df_original[df_original[col] != '?']\n",
    "len(df_original)"
   ]
  },
  {
   "cell_type": "code",
   "execution_count": 674,
   "id": "a79b1e7e",
   "metadata": {},
   "outputs": [
    {
     "data": {
      "text/plain": [
       "699"
      ]
     },
     "execution_count": 674,
     "metadata": {},
     "output_type": "execute_result"
    }
   ],
   "source": [
    "df_modified = df\n",
    "for col in df_modified.columns:\n",
    "    df_modified[col].replace({'?':'1'}, inplace=True)\n",
    "len(df_modified)"
   ]
  },
  {
   "cell_type": "code",
   "execution_count": 675,
   "id": "b406d690",
   "metadata": {},
   "outputs": [],
   "source": [
    "def logisticRegression(dfIn) :\n",
    "    X = np.asarray(dfIn[['ClumpThickness','UniformityOfCellSize','UniformityOfCellShape','MarginalAdhesion'\n",
    "                         ,'SingleEpithelialCellSize','BareNuclei','BlandChromatin','NormalNucleoli','Mitoses']])\n",
    "    Y = np.asarray(dfIn[['Class']])\n",
    "    Y = Y.ravel()\n",
    "    X = preprocessing.StandardScaler().fit(X).transform(X)\n",
    "    X_train, X_test, Y_train, Y_test = train_test_split(X, Y, test_size=0.35)\n",
    "    LR = LogisticRegression(C=0.01, solver='liblinear').fit(X_train,Y_train)\n",
    "    Y_predict = LR.predict(X_test)\n",
    "    cm = metrics.confusion_matrix(Y_test,Y_predict)\n",
    "    plt.figure(figsize=(8,4))\n",
    "    plt.title(\"Confusion Matrix\")\n",
    "    sns.heatmap(cm, annot=True, fmt=\"d\", cmap='Blues', xticklabels=[\"2\",\"4\"], yticklabels=[\"2\",\"4\"])\n",
    "    plt.ylabel(\"Actual Values\")\n",
    "    plt.xlabel(\"Predicted Values\")\n",
    "    return metrics.accuracy_score(Y_test, Y_predict)"
   ]
  },
  {
   "cell_type": "code",
   "execution_count": 676,
   "id": "adb66681",
   "metadata": {},
   "outputs": [
    {
     "name": "stdout",
     "output_type": "stream",
     "text": [
      "Original LogisticRegression's Accuracy:  0.9708333333333333\n"
     ]
    },
    {
     "data": {
      "image/png": "[encoded data removed]",
      "text/plain": [
       "<Figure size 576x288 with 2 Axes>"
      ]
     },
     "metadata": {
      "needs_background": "light"
     },
     "output_type": "display_data"
    }
   ],
   "source": [
    "print(\"Original LogisticRegression's Accuracy: \", logisticRegression(df_original))"
   ]
  },
  {
   "cell_type": "code",
   "execution_count": 677,
   "id": "3eda9e95",
   "metadata": {},
   "outputs": [
    {
     "name": "stdout",
     "output_type": "stream",
     "text": [
      "Modified LogisticRegression's Accuracy:  0.9918367346938776\n"
     ]
    },
    {
     "data": {
      "image/png": "[encoded data removed]",
      "text/plain": [
       "<Figure size 576x288 with 2 Axes>"
      ]
     },
     "metadata": {
      "needs_background": "light"
     },
     "output_type": "display_data"
    }
   ],
   "source": [
    "print(\"Modified LogisticRegression's Accuracy: \", logisticRegression(df_modified))"
   ]
  }
 ],
 "metadata": {
  "kernelspec": {
   "display_name": "Python 3",
   "language": "python",
   "name": "python3"
  },
  "language_info": {
   "codemirror_mode": {
    "name": "ipython",
    "version": 3
   },
   "file_extension": ".py",
   "mimetype": "text/x-python",
   "name": "python",
   "nbconvert_exporter": "python",
   "pygments_lexer": "ipython3",
   "version": "3.8.8"
  }
 },
 "nbformat": 4,
 "nbformat_minor": 5
}
